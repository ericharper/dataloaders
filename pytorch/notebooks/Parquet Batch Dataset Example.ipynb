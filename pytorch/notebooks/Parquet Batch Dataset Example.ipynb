{
 "cells": [
  {
   "cell_type": "code",
   "execution_count": 1,
   "metadata": {},
   "outputs": [
    {
     "name": "stdout",
     "output_type": "stream",
     "text": [
      "Number of chunks: 10\n",
      "Loading chunk 2 from disk.\n",
      "torch.Size([26841982, 32])\n",
      "90\n"
     ]
    }
   ],
   "source": [
    "import glob\n",
    "import numpy as np\n",
    "import pyarrow.parquet as pq\n",
    "import torch\n",
    "\n",
    "import sys\n",
    "sys.path.insert(0, '/home/eharper/github_projects/ericharper/dataloaders/')\n",
    "\n",
    "from pytorch.batch_dataloader.batch_dataset import TensorBatchDataset\n",
    "from pytorch.batch_dataloader.parquet_batch_dataset import ParquetBatchDataset\n",
    "\n",
    "files = glob.glob('/raid/data/handset_data/train_parquet' + '/*.parquet')\n",
    "dataset = ParquetBatchDataset(files, 100, 300000)\n",
    "\n",
    "print('Number of chunks:', len(dataset))\n",
    "\n",
    "chunk = dataset.load_chunk_as_tensor(2)\n",
    "print(chunk.shape)\n",
    "\n",
    "tensor_batch_dataset = TensorBatchDataset([chunk], batch_size=dataset.batch_size)\n",
    "\n",
    "print(len(tensor_batch_dataset))"
   ]
  },
  {
   "cell_type": "code",
   "execution_count": null,
   "metadata": {},
   "outputs": [],
   "source": []
  }
 ],
 "metadata": {
  "kernelspec": {
   "display_name": "Python 3",
   "language": "python",
   "name": "python3"
  },
  "language_info": {
   "codemirror_mode": {
    "name": "ipython",
    "version": 3
   },
   "file_extension": ".py",
   "mimetype": "text/x-python",
   "name": "python",
   "nbconvert_exporter": "python",
   "pygments_lexer": "ipython3",
   "version": "3.7.3"
  }
 },
 "nbformat": 4,
 "nbformat_minor": 2
}
