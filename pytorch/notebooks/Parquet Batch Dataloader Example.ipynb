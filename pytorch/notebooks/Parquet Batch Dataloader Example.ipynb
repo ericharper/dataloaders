{
 "cells": [
  {
   "cell_type": "code",
   "execution_count": 2,
   "metadata": {},
   "outputs": [
    {
     "name": "stdout",
     "output_type": "stream",
     "text": [
      "Total Samples: 272978846\n",
      "Loading chunk 0 from disk.\n",
      "Batch Idx: 0 | Batch Shape: (10000000, 32)\n",
      "Batch Idx: 1 | Batch Shape: (10000000, 32)\n",
      "Batch Idx: 2 | Batch Shape: (7070746, 32)\n",
      "Loading chunk 1 from disk.\n",
      "Batch Idx: 3 | Batch Shape: (10000000, 32)\n",
      "Batch Idx: 4 | Batch Shape: (10000000, 32)\n",
      "Batch Idx: 5 | Batch Shape: (7891602, 32)\n",
      "Loading chunk 2 from disk.\n",
      "Batch Idx: 6 | Batch Shape: (10000000, 32)\n",
      "Batch Idx: 7 | Batch Shape: (10000000, 32)\n",
      "Batch Idx: 8 | Batch Shape: (6841982, 32)\n",
      "Loading chunk 3 from disk.\n",
      "Batch Idx: 9 | Batch Shape: (10000000, 32)\n",
      "Batch Idx: 10 | Batch Shape: (10000000, 32)\n",
      "Batch Idx: 11 | Batch Shape: (7170795, 32)\n",
      "Loading chunk 4 from disk.\n",
      "Batch Idx: 12 | Batch Shape: (10000000, 32)\n",
      "Batch Idx: 13 | Batch Shape: (10000000, 32)\n",
      "Batch Idx: 14 | Batch Shape: (6522487, 32)\n",
      "Loading chunk 5 from disk.\n",
      "Batch Idx: 15 | Batch Shape: (10000000, 32)\n",
      "Batch Idx: 16 | Batch Shape: (10000000, 32)\n",
      "Batch Idx: 17 | Batch Shape: (7489423, 32)\n",
      "Loading chunk 6 from disk.\n",
      "Batch Idx: 18 | Batch Shape: (10000000, 32)\n",
      "Batch Idx: 19 | Batch Shape: (10000000, 32)\n",
      "Batch Idx: 20 | Batch Shape: (7384617, 32)\n",
      "Loading chunk 7 from disk.\n",
      "Batch Idx: 21 | Batch Shape: (10000000, 32)\n",
      "Batch Idx: 22 | Batch Shape: (10000000, 32)\n",
      "Batch Idx: 23 | Batch Shape: (7182453, 32)\n",
      "Loading chunk 8 from disk.\n",
      "Batch Idx: 24 | Batch Shape: (10000000, 32)\n",
      "Batch Idx: 25 | Batch Shape: (10000000, 32)\n",
      "Batch Idx: 26 | Batch Shape: (7602929, 32)\n",
      "Loading chunk 9 from disk.\n",
      "Batch Idx: 27 | Batch Shape: (10000000, 32)\n"
     ]
    }
   ],
   "source": [
    "import glob\n",
    "\n",
    "import numpy as np\n",
    "\n",
    "import sys\n",
    "sys.path.insert(0, '/home/eharper/github_projects/ericharper/dataloaders/')\n",
    "\n",
    "from pytorch.batch_dataloader.parquet_batch_dataset import ParquetBatchDataset\n",
    "from pytorch.batch_dataloader.parquet_batch_dataloader import ParquetBatchDataLoader\n",
    "\n",
    "files = glob.glob('/raid/data/handset_data/train_parquet' + '/*.parquet')\n",
    "dataset = ParquetBatchDataset(files, num_files_per_chunk=100, batch_size=10**7)\n",
    "total_samples = sum(dataset.compute_samples_per_chunk())\n",
    "print('Total Samples:', total_samples)\n",
    "data_loader = ParquetBatchDataLoader(dataset, total_samples,\n",
    "                                shuffle=True, drop_last=False)\n",
    "for batch_idx, batch in enumerate(data_loader):\n",
    "    print('Batch Idx: %d | Batch Shape: (%d, %d)' % (batch_idx, batch[0].shape[0], batch[0].shape[1]))"
   ]
  },
  {
   "cell_type": "code",
   "execution_count": null,
   "metadata": {},
   "outputs": [],
   "source": []
  }
 ],
 "metadata": {
  "kernelspec": {
   "display_name": "Python 3",
   "language": "python",
   "name": "python3"
  },
  "language_info": {
   "codemirror_mode": {
    "name": "ipython",
    "version": 3
   },
   "file_extension": ".py",
   "mimetype": "text/x-python",
   "name": "python",
   "nbconvert_exporter": "python",
   "pygments_lexer": "ipython3",
   "version": "3.7.3"
  }
 },
 "nbformat": 4,
 "nbformat_minor": 2
}
